{
  "cells": [
    {
      "cell_type": "markdown",
      "metadata": {
        "id": "VGrGd6__l5ch"
      },
      "source": [
        "# Ultimate MIDI Classifier Maker (ver. 1.0)\n",
        "\n",
        "***\n",
        "\n",
        "Powered by tegridy-tools: https://github.com/asigalov61/tegridy-tools\n",
        "\n",
        "***\n",
        "\n",
        "WARNING: This complete implementation is a functioning model of the Artificial Intelligence. Please excercise great humility, care, and respect. https://www.nscai.gov/\n",
        "\n",
        "***\n",
        "\n",
        "#### Project Los Angeles\n",
        "\n",
        "#### Tegridy Code 2024\n",
        "\n",
        "***"
      ]
    },
    {
      "cell_type": "markdown",
      "metadata": {
        "id": "shLrgoXdl5cj"
      },
      "source": [
        "# GPU check"
      ]
    },
    {
      "cell_type": "code",
      "execution_count": null,
      "metadata": {
        "id": "X3rABEpKCO02"
      },
      "outputs": [],
      "source": [
        "!nvidia-smi"
      ]
    },
    {
      "cell_type": "markdown",
      "metadata": {
        "id": "0RcVC4btl5ck"
      },
      "source": [
        "# Setup environment"
      ]
    },
    {
      "cell_type": "code",
      "execution_count": null,
      "metadata": {
        "id": "viHgEaNACPTs"
      },
      "outputs": [],
      "source": [
        "!git clone --depth 1 https://github.com/asigalov61/tegridy-tools\n",
        "!pip3 install torch torchvision torchaudio\n",
        "!pip install einops\n",
        "!pip install torch-summary"
      ]
    },
    {
      "cell_type": "markdown",
      "source": [
        "# Import modules"
      ],
      "metadata": {
        "id": "v7HGSkTksAWh"
      }
    },
    {
      "cell_type": "code",
      "execution_count": null,
      "metadata": {
        "id": "DzCOZU_gBiQV"
      },
      "outputs": [],
      "source": [
        "# Load modules and make data dir\n",
        "\n",
        "print('Loading modules...')\n",
        "\n",
        "import os\n",
        "import pickle\n",
        "import random\n",
        "import secrets\n",
        "import tqdm\n",
        "import math\n",
        "import torch\n",
        "import torch.optim as optim\n",
        "\n",
        "from torch.utils.data import DataLoader, Dataset\n",
        "\n",
        "import matplotlib.pyplot as plt\n",
        "\n",
        "from torchsummary import summary\n",
        "from sklearn import metrics\n",
        "\n",
        "%cd /home/ubuntu/tegridy-tools/tegridy-tools/\n",
        "\n",
        "import TMIDIX\n",
        "\n",
        "%cd /home/ubuntu/tegridy-tools/tegridy-tools/X-Transformer\n",
        "\n",
        "from x_transformer_1_23_2 import *\n",
        "\n",
        "torch.set_float32_matmul_precision('high')\n",
        "torch.backends.cuda.matmul.allow_tf32 = True # allow tf32 on matmul\n",
        "torch.backends.cudnn.allow_tf32 = True # allow tf32 on cudnn\n",
        "\n",
        "%cd /home/ubuntu/\n",
        "\n",
        "if not os.path.exists('/home/ubuntu/INTS'):\n",
        "    os.makedirs('/home/ubuntu/INTS')\n",
        "\n",
        "import random\n",
        "\n",
        "print('Done')\n",
        "\n",
        "print('Torch version:', torch.__version__)"
      ]
    },
    {
      "cell_type": "markdown",
      "metadata": {
        "id": "Sbhzy8FGl5cm"
      },
      "source": [
        "# Load training data"
      ]
    },
    {
      "cell_type": "markdown",
      "metadata": {
        "id": "DdNpMqtEvs3G"
      },
      "source": [
        "# Files List"
      ]
    },
    {
      "cell_type": "code",
      "execution_count": null,
      "metadata": {
        "id": "IdBpL-HUHLBW"
      },
      "outputs": [],
      "source": [
        "dataset_addr = \"/home/ubuntu/INTS\"\n",
        "\n",
        "#==========================================================================\n",
        "\n",
        "filez = list()\n",
        "for (dirpath, dirnames, filenames) in os.walk(dataset_addr):\n",
        "    filez += [os.path.join(dirpath, file) for file in filenames]\n",
        "print('=' * 70)\n",
        "\n",
        "random.shuffle(filez)\n",
        "\n",
        "print('Loaded', len(filez), 'data files')\n",
        "print('=' * 70)"
      ]
    },
    {
      "cell_type": "markdown",
      "metadata": {
        "id": "cd-51e9wooMs"
      },
      "source": [
        "# Load Training Data"
      ]
    },
    {
      "cell_type": "code",
      "execution_count": null,
      "metadata": {
        "id": "yd12OuG1ooMs"
      },
      "outputs": [],
      "source": [
        "SEQ_LEN = 1026 # Models seq len (must be divisible by 4)\n",
        "PAD_IDX = 940 # Models pad index\n",
        "\n",
        "CHUNKS_LENGTH = SEQ_LEN+1\n",
        "\n",
        "#==========================================================================\n",
        "\n",
        "print('=' * 70)\n",
        "print('Loading data files...')\n",
        "print('Please wait...')\n",
        "print('=' * 70)\n",
        "\n",
        "train_data = []\n",
        "\n",
        "chunk_size = 1020\n",
        "\n",
        "for lfa in tqdm.tqdm(filez):\n",
        "\n",
        "    train_d = pickle.load(open(lfa, 'rb'))\n",
        "    random.shuffle(train_d)\n",
        "    for ta in train_d:\n",
        "\n",
        "        fnames_toks = ta[0]\n",
        "        score = ta[1]\n",
        "\n",
        "        for i in range(0, len(score)-chunk_size, chunk_size // 2):\n",
        "            schunk = score[i:i+chunk_size]\n",
        "\n",
        "            if len(schunk) == chunk_size:\n",
        "\n",
        "                td = [937]\n",
        "\n",
        "                td.extend(schunk)\n",
        "\n",
        "                td.extend([938])\n",
        "\n",
        "                td.extend([fnames_toks[0]+512, fnames_toks[1]+512])\n",
        "\n",
        "                td.extend([939])\n",
        "\n",
        "                train_data.append(td)\n",
        "\n",
        "#==========================================================================\n",
        "\n",
        "print('Done!')\n",
        "print('=' * 70)\n",
        "print('Total number of good chunks:', len(train_data))\n",
        "print('All data is good:', len(max(train_data, key=len)) == len(min(train_data, key=len)))\n",
        "print('=' * 70)\n",
        "print('Final data randomization...')\n",
        "random.shuffle(train_data)\n",
        "print('Done!')\n",
        "print('=' * 70)"
      ]
    },
    {
      "cell_type": "code",
      "execution_count": null,
      "metadata": {
        "id": "UjO2dzeUrvEX"
      },
      "outputs": [],
      "source": [
        "train_data[0][-15:], len(train_data[0])"
      ]
    },
    {
      "cell_type": "markdown",
      "metadata": {
        "id": "VhZqBvqVl5cn"
      },
      "source": [
        "# Setup model"
      ]
    },
    {
      "cell_type": "code",
      "execution_count": null,
      "metadata": {
        "id": "mfwp06xzzPZ5"
      },
      "outputs": [],
      "source": [
        "# Setup model\n",
        "\n",
        "# constants\n",
        "\n",
        "NUM_EPOCHS = 1\n",
        "\n",
        "BATCH_SIZE = 88\n",
        "GRADIENT_ACCUMULATE_EVERY = 1\n",
        "\n",
        "LEARNING_RATE = 1e-4\n",
        "\n",
        "TOTAL_STEPS = int((len(train_data) / (BATCH_SIZE * GRADIENT_ACCUMULATE_EVERY)) * NUM_EPOCHS)\n",
        "\n",
        "VALIDATE_EVERY  = 100\n",
        "SAVE_EVERY = 500\n",
        "GENERATE_EVERY  = 250\n",
        "GENERATE_LENGTH = 4\n",
        "PRINT_STATS_EVERY = 20\n",
        "\n",
        "# helpers\n",
        "\n",
        "def cycle(loader):\n",
        "    while True:\n",
        "        for data in loader:\n",
        "            yield data\n",
        "\n",
        "# instantiate the model\n",
        "\n",
        "model = TransformerWrapper(\n",
        "    num_tokens = PAD_IDX+1,\n",
        "    max_seq_len = SEQ_LEN,\n",
        "    attn_layers = Decoder(dim = 1024, depth = 24, heads = 32, attn_flash = True)\n",
        "    )\n",
        "\n",
        "model = AutoregressiveWrapper(model, ignore_index = PAD_IDX, pad_value=PAD_IDX)\n",
        "\n",
        "model = torch.nn.DataParallel(model)\n",
        "\n",
        "model.cuda()\n",
        "\n",
        "print('Done!')\n",
        "\n",
        "summary(model)\n",
        "\n",
        "# Dataloader\n",
        "\n",
        "class MusicDataset(Dataset):\n",
        "    def __init__(self, data, seq_len):\n",
        "        super().__init__()\n",
        "        self.data = data\n",
        "        self.seq_len = seq_len\n",
        "\n",
        "    def __getitem__(self, index):\n",
        "\n",
        "        # consequtive sampling\n",
        "\n",
        "        full_seq = torch.Tensor(self.data[index][:self.seq_len+1]).long()\n",
        "\n",
        "        return full_seq.cuda()\n",
        "\n",
        "    def __len__(self):\n",
        "        return (len(self.data) // BATCH_SIZE) * BATCH_SIZE\n",
        "\n",
        "# precision/optimizer/scaler\n",
        "\n",
        "optim = torch.optim.Adam(model.parameters(), lr=LEARNING_RATE)"
      ]
    },
    {
      "cell_type": "markdown",
      "metadata": {
        "id": "xJPxxFiwl5cn"
      },
      "source": [
        "# Train"
      ]
    },
    {
      "cell_type": "code",
      "execution_count": null,
      "metadata": {
        "id": "HETGqz_6K1ml"
      },
      "outputs": [],
      "source": [
        "# Train the model\n",
        "\n",
        "train_losses = []\n",
        "val_losses = []\n",
        "\n",
        "train_accs = []\n",
        "val_accs = []\n",
        "\n",
        "nsteps = 0\n",
        "\n",
        "for da in range(5):\n",
        "\n",
        "        tdata = train_data\n",
        "\n",
        "        random.shuffle(tdata)\n",
        "\n",
        "        print('=' * 70)\n",
        "        print('Epoch', da)\n",
        "        print('=' * 70)\n",
        "\n",
        "        train_dataset = MusicDataset(tdata, SEQ_LEN)\n",
        "        val_dataset   = MusicDataset(tdata, SEQ_LEN)\n",
        "        train_loader  = cycle(DataLoader(train_dataset, batch_size = BATCH_SIZE))\n",
        "        val_loader    = cycle(DataLoader(val_dataset, batch_size = BATCH_SIZE))\n",
        "\n",
        "        NUM_BATCHES = (len(tdata) // BATCH_SIZE // GRADIENT_ACCUMULATE_EVERY) * NUM_EPOCHS\n",
        "\n",
        "        model.train()\n",
        "\n",
        "        for i in tqdm.tqdm(range(NUM_BATCHES), mininterval=10., desc='Training'):\n",
        "\n",
        "            optim.zero_grad(set_to_none=True)\n",
        "\n",
        "            loss, acc = model(next(train_loader))\n",
        "            loss.backward(torch.ones(loss.shape).cuda())\n",
        "\n",
        "            if i % PRINT_STATS_EVERY == 0:\n",
        "                print(f'Training loss: {loss.mean().item() * GRADIENT_ACCUMULATE_EVERY}')\n",
        "                print(f'Training acc: {acc.mean().item()}')\n",
        "\n",
        "            train_losses.append(loss.mean().item() * GRADIENT_ACCUMULATE_EVERY)\n",
        "            train_accs.append(acc.mean().item())\n",
        "\n",
        "            torch.nn.utils.clip_grad_norm_(model.parameters(), 1.0)\n",
        "            optim.step()\n",
        "\n",
        "            nsteps += 1\n",
        "\n",
        "            if i % VALIDATE_EVERY == 0:\n",
        "                model.eval()\n",
        "                with torch.no_grad():\n",
        "                        val_loss, val_acc = model(next(val_loader))\n",
        "\n",
        "                        print(f'Validation loss: {val_loss.mean().item()}')\n",
        "                        print(f'Validation acc: {val_acc.mean().item()}')\n",
        "\n",
        "                        val_losses.append(val_loss.mean().item())\n",
        "                        val_accs.append(val_acc.mean().item())\n",
        "\n",
        "                        print('Plotting training loss graph...')\n",
        "\n",
        "                        tr_loss_list = train_losses\n",
        "                        plt.plot([i for i in range(len(tr_loss_list))] ,tr_loss_list, 'b')\n",
        "                        plt.show()\n",
        "                        plt.close()\n",
        "                        print('Done!')\n",
        "\n",
        "                        print('Plotting training acc graph...')\n",
        "\n",
        "                        tr_loss_list = train_accs\n",
        "                        plt.plot([i for i in range(len(tr_loss_list))] ,tr_loss_list, 'b')\n",
        "                        plt.show()\n",
        "                        plt.close()\n",
        "                        print('Done!')\n",
        "\n",
        "                        print('Plotting validation loss graph...')\n",
        "                        tr_loss_list = val_losses\n",
        "                        plt.plot([i for i in range(len(tr_loss_list))] ,tr_loss_list, 'b')\n",
        "                        plt.show()\n",
        "                        plt.close()\n",
        "                        print('Done!')\n",
        "\n",
        "                        print('Plotting validation acc graph...')\n",
        "                        tr_loss_list = val_accs\n",
        "                        plt.plot([i for i in range(len(tr_loss_list))] ,tr_loss_list, 'b')\n",
        "                        plt.show()\n",
        "                        plt.close()\n",
        "                        print('Done!')\n",
        "\n",
        "                model.train()\n",
        "\n",
        "            if i % GENERATE_EVERY == 0:\n",
        "                model.eval()\n",
        "\n",
        "                inp = random.choice(val_dataset)[:1022]\n",
        "\n",
        "                print(inp)\n",
        "\n",
        "                sample = model.module.generate(inp[None, ...], GENERATE_LENGTH)\n",
        "\n",
        "                print(sample)\n",
        "\n",
        "                model.train()\n",
        "\n",
        "            if i % SAVE_EVERY == 0:\n",
        "\n",
        "                print('Saving model progress. Please wait...')\n",
        "                print('model_checkpoint_' + str(nsteps) + '_steps_' + str(round(float(train_losses[-1]), 4)) + '_loss_' + str(round(float(train_accs[-1]), 4)) + '_acc.pth')\n",
        "\n",
        "                fname = '/home/ubuntu/model_checkpoint_' + str(nsteps) + '_steps_' + str(round(float(train_losses[-1]), 4)) + '_loss_' + str(round(float(train_accs[-1]), 4)) + '_acc.pth'\n",
        "\n",
        "                torch.save(model.state_dict(), fname)\n",
        "\n",
        "                data = [train_losses, train_accs, val_losses, val_accs]\n",
        "\n",
        "                TMIDIX.Tegridy_Any_Pickle_File_Writer(data, '/home/ubuntu/losses_accs')\n",
        "\n",
        "                print('Done!')"
      ]
    },
    {
      "cell_type": "markdown",
      "metadata": {
        "id": "wBkMH2gWl5co"
      },
      "source": [
        "# Final Save"
      ]
    },
    {
      "cell_type": "code",
      "execution_count": null,
      "metadata": {
        "id": "fCmj4MBmAOjF"
      },
      "outputs": [],
      "source": [
        "print('Saving model progress. Please wait...')\n",
        "print('model_checkpoint_' + str(nsteps) + '_steps_' + str(round(float(train_losses[-1]), 4)) + '_loss_' + str(round(float(train_accs[-1]), 4)) + '_acc.pth')\n",
        "\n",
        "fname = '/home/ubuntu/model_checkpoint_' + str(nsteps) + '_steps_' + str(round(float(train_losses[-1]), 4)) + '_loss_' + str(round(float(train_accs[-1]), 4)) + '_acc.pth'\n",
        "\n",
        "torch.save(model.state_dict(), fname)\n",
        "\n",
        "print('Done!')"
      ]
    },
    {
      "cell_type": "code",
      "execution_count": null,
      "metadata": {
        "id": "WwgV2ZA9ndQr"
      },
      "outputs": [],
      "source": [
        "data = [train_losses, train_accs, val_losses, val_accs]\n",
        "\n",
        "TMIDIX.Tegridy_Any_Pickle_File_Writer(data, '/home/ubuntu/losses_accuracies')"
      ]
    },
    {
      "cell_type": "code",
      "execution_count": null,
      "metadata": {
        "id": "4vE5Z15fCz1M"
      },
      "outputs": [],
      "source": [
        "# Save training loss graph\n",
        "\n",
        "plt.plot([i for i in range(len(train_losses))] ,train_losses, 'b')\n",
        "plt.savefig('/home/ubuntu/training_loss_graph.png')\n",
        "plt.close()\n",
        "print('Done!')\n",
        "\n",
        "# Save training acc graph\n",
        "\n",
        "plt.plot([i for i in range(len(train_accs))] ,train_accs, 'b')\n",
        "plt.savefig('/home/ubuntu/training_acc_graph.png')\n",
        "plt.close()\n",
        "print('Done!')\n",
        "\n",
        "# Save validation loss graph\n",
        "\n",
        "plt.plot([i for i in range(len(val_losses))] ,val_losses, 'b')\n",
        "plt.savefig('/home/ubuntu/validation_loss_graph.png')\n",
        "plt.close()\n",
        "print('Done!')\n",
        "\n",
        "# Save validation acc graph\n",
        "\n",
        "plt.plot([i for i in range(len(val_accs))] ,val_accs, 'b')\n",
        "plt.savefig('/home/ubuntu/validation_acc_graph.png')\n",
        "plt.close()\n",
        "print('Done!')"
      ]
    },
    {
      "cell_type": "markdown",
      "metadata": {
        "id": "feXay_Ed7mG5"
      },
      "source": [
        "# Eval"
      ]
    },
    {
      "cell_type": "code",
      "execution_count": null,
      "metadata": {
        "id": "naf65RxUXwDg"
      },
      "outputs": [],
      "source": [
        "model.eval()\n",
        "\n",
        "#x = (torch.tensor(random.choice(train_data)[:1022], dtype=torch.long, device=device_type)[None, ...])\n",
        "x = torch.tensor([[937]] * 4, dtype=torch.long, device='cuda')\n",
        "\n",
        "# run generation\n",
        "\n",
        "out = model.module.generate(x,\n",
        "                            1021,\n",
        "                            temperature=0.9,\n",
        "                            return_prime=True,\n",
        "                            verbose=True)\n",
        "\n",
        "y = out.tolist()\n",
        "\n",
        "print('---------------')"
      ]
    },
    {
      "cell_type": "code",
      "execution_count": null,
      "metadata": {
        "id": "w6Z3HJ313EL_"
      },
      "outputs": [],
      "source": [
        "print(y)"
      ]
    },
    {
      "cell_type": "code",
      "execution_count": null,
      "metadata": {
        "id": "tlBzqWpAnZna"
      },
      "outputs": [],
      "source": [
        "#@title Test INTs\n",
        "\n",
        "data = y[0]\n",
        "\n",
        "print('Sample INTs', data[:15])\n",
        "\n",
        "out = data[:200000]\n",
        "\n",
        "if len(out) != 0:\n",
        "\n",
        "    song = out\n",
        "    song_f = []\n",
        "\n",
        "    time = 0\n",
        "    dur = 0\n",
        "    vel = 90\n",
        "    pitch = 0\n",
        "    channel = 0\n",
        "\n",
        "    for ss in song:\n",
        "\n",
        "        if 0 <= ss < 128:\n",
        "\n",
        "            time += ss\n",
        "\n",
        "        if 128 < ss < 256:\n",
        "\n",
        "            dur = (ss-128)\n",
        "\n",
        "        if 256 < ss < 512:\n",
        "\n",
        "            chan = (ss-256) // 128\n",
        "\n",
        "            if chan == 1:\n",
        "                channel = 9\n",
        "            else:\n",
        "                channel = 0\n",
        "\n",
        "            pitch = (ss-256) % 128\n",
        "\n",
        "            song_f.append(['note', time, dur, channel, pitch, vel ])\n",
        "\n",
        "detailed_stats = TMIDIX.Tegridy_ms_SONG_to_MIDI_Converter(song_f,\n",
        "                                                          output_signature = 'Ultimate MIDI Classifier',\n",
        "                                                          output_file_name = '/home/ubuntu/Ultimate-MIDI-Classifier-Composition',\n",
        "                                                          track_name='Project Los Angeles',\n",
        "                                                          timings_multiplier=32\n",
        "                                                          )\n",
        "\n",
        "print('Done!')"
      ]
    },
    {
      "cell_type": "code",
      "execution_count": null,
      "metadata": {
        "id": "al3TDlH7T8m7"
      },
      "outputs": [],
      "source": [
        "tok_emb = model.module.net.token_emb.emb.weight.detach().cpu().tolist()\n",
        "\n",
        "cos_sim = metrics.pairwise_distances(\n",
        "  tok_emb, metric='cosine'\n",
        ")\n",
        "plt.figure(figsize=(7, 7))\n",
        "plt.imshow(cos_sim, cmap=\"inferno\", interpolation=\"nearest\")\n",
        "im_ratio = cos_sim.shape[0] / cos_sim.shape[1]\n",
        "plt.colorbar(fraction=0.046 * im_ratio, pad=0.04)\n",
        "plt.xlabel(\"Position\")\n",
        "plt.ylabel(\"Position\")\n",
        "plt.tight_layout()\n",
        "plt.plot()\n",
        "plt.savefig(\"/home/ubuntu/Ultimate-MIDI-Classifier-Tokens-Embeddings-Plot.png\", bbox_inches=\"tight\")"
      ]
    },
    {
      "cell_type": "markdown",
      "metadata": {
        "id": "z87TlDTVl5cp"
      },
      "source": [
        "# Congrats! You did it! :)"
      ]
    }
  ],
  "metadata": {
    "accelerator": "GPU",
    "colab": {
      "gpuClass": "premium",
      "gpuType": "T4",
      "private_outputs": true,
      "provenance": []
    },
    "kernelspec": {
      "display_name": "Python 3 (ipykernel)",
      "language": "python",
      "name": "python3"
    },
    "language_info": {
      "codemirror_mode": {
        "name": "ipython",
        "version": 3
      },
      "file_extension": ".py",
      "mimetype": "text/x-python",
      "name": "python",
      "nbconvert_exporter": "python",
      "pygments_lexer": "ipython3",
      "version": "3.10.12"
    }
  },
  "nbformat": 4,
  "nbformat_minor": 0
}