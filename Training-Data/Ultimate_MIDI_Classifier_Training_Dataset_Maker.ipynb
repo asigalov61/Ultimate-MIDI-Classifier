{
  "cells": [
    {
      "cell_type": "markdown",
      "metadata": {
        "gradient": {
          "editing": false,
          "id": "ac5a4cf0-d9d2-47b5-9633-b53f8d99a4d2",
          "kernelId": ""
        },
        "id": "SiTIpPjArIyr"
      },
      "source": [
        "# Ultimate MIDI Classifier Training Dataset Maker (ver. 1.0)\n",
        "\n",
        "***\n",
        "\n",
        "Powered by tegridy-tools: https://github.com/asigalov61/tegridy-tools\n",
        "\n",
        "***\n",
        "\n",
        "#### Project Los Angeles\n",
        "\n",
        "#### Tegridy Code 2024\n",
        "\n",
        "***"
      ]
    },
    {
      "cell_type": "markdown",
      "metadata": {
        "gradient": {
          "editing": false,
          "id": "fa0a611c-1803-42ae-bdf6-a49b5a4e781b",
          "kernelId": ""
        },
        "id": "gOd93yV0sGd2"
      },
      "source": [
        "# (SETUP ENVIRONMENT)"
      ]
    },
    {
      "cell_type": "code",
      "execution_count": null,
      "metadata": {
        "cellView": "form",
        "gradient": {
          "editing": false,
          "id": "a1a45a91-d909-4fd4-b67a-5e16b971d179",
          "kernelId": ""
        },
        "id": "fX12Yquyuihc"
      },
      "outputs": [],
      "source": [
        "#@title Install all dependencies (run only once per session)\n",
        "\n",
        "!git clone --depth 1 https://github.com/asigalov61/tegridy-tools"
      ]
    },
    {
      "cell_type": "code",
      "execution_count": null,
      "metadata": {
        "cellView": "form",
        "gradient": {
          "editing": false,
          "id": "b8207b76-9514-4c07-95db-95a4742e52c5",
          "kernelId": ""
        },
        "id": "z7n9vnKmug1J"
      },
      "outputs": [],
      "source": [
        "#@title Import all needed modules\n",
        "\n",
        "print('Loading needed modules. Please wait...')\n",
        "import os\n",
        "import copy\n",
        "import math\n",
        "import statistics\n",
        "import random\n",
        "\n",
        "from joblib import Parallel, delayed, parallel_config\n",
        "\n",
        "from tqdm import tqdm\n",
        "\n",
        "if not os.path.exists('/content/Dataset'):\n",
        "    os.makedirs('/content/Dataset')\n",
        "\n",
        "print('Loading TMIDIX module...')\n",
        "os.chdir('/content/tegridy-tools/tegridy-tools')\n",
        "\n",
        "import TMIDIX\n",
        "\n",
        "from huggingface_hub import hf_hub_download\n",
        "\n",
        "print('Done!')\n",
        "\n",
        "os.chdir('/content/')\n",
        "print('Enjoy! :)')"
      ]
    },
    {
      "cell_type": "markdown",
      "metadata": {
        "gradient": {
          "editing": false,
          "id": "20b8698a-0b4e-4fdb-ae49-24d063782e77",
          "kernelId": ""
        },
        "id": "ObPxlEutsQBj"
      },
      "source": [
        "# (DOWNLOAD CLASSIFICATION MIDI DATASET)"
      ]
    },
    {
      "cell_type": "code",
      "source": [
        "#@title Download and unzip sample classification MIDI Dataset\n",
        "\n",
        "hf_hub_download(repo_id='asigalov61/Annotated-MIDI-Dataset',\n",
        "                filename='Annotated-MIDI-Dataset-Large-Raw-Version-CC-BY-NC-SA.zip',\n",
        "                local_dir='/content/Dataset',\n",
        "                repo_type='dataset'\n",
        "                )\n",
        "\n",
        "\n",
        "%cd /content/Dataset/\n",
        "\n",
        "!unzip Annotated-MIDI-Dataset-Large-Raw-Version-CC-BY-NC-SA.zip\n",
        "!rm Annotated-MIDI-Dataset-Large-Raw-Version-CC-BY-NC-SA.zip\n",
        "\n",
        "%cd /content/"
      ],
      "metadata": {
        "cellView": "form",
        "id": "7aItlhq9cRxZ"
      },
      "execution_count": null,
      "outputs": []
    },
    {
      "cell_type": "markdown",
      "metadata": {
        "id": "JwrqQeie08t0"
      },
      "source": [
        "# (FILE LIST)"
      ]
    },
    {
      "cell_type": "code",
      "execution_count": null,
      "metadata": {
        "cellView": "form",
        "id": "DuVWtdDNcqKh"
      },
      "outputs": [],
      "source": [
        "#@title Save file list\n",
        "\n",
        "###########\n",
        "\n",
        "print('=' * 70)\n",
        "print('Loading MIDI files...')\n",
        "print('This may take a while on a large dataset in particular.')\n",
        "\n",
        "dataset_addr = \"/content/Dataset\"\n",
        "\n",
        "filez = list()\n",
        "for (dirpath, dirnames, filenames) in os.walk(dataset_addr):\n",
        "    filez += [os.path.join(dirpath, file) for file in filenames if file.endswith('.mid')]\n",
        "print('=' * 70)\n",
        "\n",
        "if filez == []:\n",
        "    print('Could not find any MIDI files. Please check Dataset dir...')\n",
        "    print('=' * 70)\n",
        "\n",
        "print('Randomizing file list...')\n",
        "random.shuffle(filez)\n",
        "\n",
        "DIVIDER = math.ceil(math.sqrt(len(filez)))\n",
        "\n",
        "print('=' * 70)\n",
        "\n",
        "print('Creating sorted files list...')\n",
        "\n",
        "f_names = sorted([os.path.basename(f).split('.mid')[0].split(' --- ') for f in filez], key=lambda x: (x[1], x[0]))\n",
        "\n",
        "file_names = []\n",
        "\n",
        "for f in f_names:\n",
        "    file_names.append(' --- '.join(f))\n",
        "\n",
        "print('Done!')\n",
        "print('=' * 70)\n",
        "\n",
        "TMIDIX.Tegridy_Any_Pickle_File_Writer([filez, file_names, DIVIDER], '/content/files_labels_divider_data')\n",
        "print('=' * 70)\n",
        "\n",
        "print('Found', len(filez), 'MIDIs')\n",
        "print('=' * 70)"
      ]
    },
    {
      "cell_type": "code",
      "execution_count": null,
      "metadata": {
        "cellView": "form",
        "id": "qI_adhjojrJ9"
      },
      "outputs": [],
      "source": [
        "#@title Load file list\n",
        "filez, file_names, DIVIDER = TMIDIX.Tegridy_Any_Pickle_File_Reader('/content/files_labels_divider_data')"
      ]
    },
    {
      "cell_type": "markdown",
      "source": [
        "# (LOAD TMIDIX MIDI PROCESSOR)"
      ],
      "metadata": {
        "id": "xJWEVeeP5WzW"
      }
    },
    {
      "cell_type": "code",
      "source": [
        "# @title Load TMIDIX MIDI Processor\n",
        "\n",
        "def file_name_to_file_name_tokens(file_name):\n",
        "    idx = file_names.index(file_name)\n",
        "\n",
        "    tok1 = idx // DIVIDER\n",
        "    tok2 = idx % DIVIDER\n",
        "\n",
        "    return [tok1, tok2]\n",
        "\n",
        "def file_name_tokens_to_file_name(file_name_tokens):\n",
        "\n",
        "    tok1 = file_name_tokens[0]\n",
        "    tok2 = file_name_tokens[1]\n",
        "\n",
        "    idx = (tok1 * DIVIDER) + tok2\n",
        "\n",
        "    return file_names[idx]\n",
        "\n",
        "def TMIDIX_MIDI_Processor(midi_file):\n",
        "\n",
        "    try:\n",
        "\n",
        "        fn = os.path.basename(midi_file)\n",
        "        fn1 = fn.split('.mid')[0]\n",
        "\n",
        "        fn_tokens = file_name_to_file_name_tokens(fn1)\n",
        "\n",
        "        #=======================================================\n",
        "        # START PROCESSING\n",
        "\n",
        "        #===============================================================================\n",
        "        # Raw single-track ms score\n",
        "\n",
        "        raw_score = TMIDIX.midi2single_track_ms_score(midi_file)\n",
        "\n",
        "        #===============================================================================\n",
        "        # Enhanced score notes\n",
        "\n",
        "        escore_notes = TMIDIX.advanced_score_processor(raw_score, return_enhanced_score_notes=True)[0]\n",
        "\n",
        "        if len(escore_notes) > 0:\n",
        "\n",
        "            #=======================================================\n",
        "            # PRE-PROCESSING\n",
        "\n",
        "            #===============================================================================\n",
        "            # Augmented enhanced score notes\n",
        "\n",
        "            escore_notes = TMIDIX.augment_enhanced_score_notes(escore_notes, timings_divider=32)\n",
        "\n",
        "            escore_notes = [e for e in escore_notes if e[6] < 80 or e[6] == 128]\n",
        "\n",
        "            #=======================================================\n",
        "            # Augmentation\n",
        "\n",
        "            #=======================================================\n",
        "            # FINAL PROCESSING\n",
        "\n",
        "            melody_chords = []\n",
        "\n",
        "            #=======================================================\n",
        "            # MAIN PROCESSING CYCLE\n",
        "            #=======================================================\n",
        "\n",
        "            pe = escore_notes[0]\n",
        "\n",
        "            pitches = []\n",
        "\n",
        "            for e in escore_notes:\n",
        "\n",
        "                #=======================================================\n",
        "                # Timings...\n",
        "\n",
        "                delta_time = max(0, min(127, e[1]-pe[1]))\n",
        "\n",
        "                if delta_time != 0:\n",
        "                    pitches = []\n",
        "\n",
        "                # Durations and channels\n",
        "\n",
        "                dur = max(1, min(127, e[2]))\n",
        "\n",
        "                # Patches\n",
        "                pat = max(0, min(128, e[6]))\n",
        "\n",
        "                # Pitches\n",
        "\n",
        "                if pat == 128:\n",
        "                    ptc = max(1, min(127, e[4]))+128\n",
        "                else:\n",
        "                    ptc = max(1, min(127, e[4]))\n",
        "\n",
        "                #=======================================================\n",
        "                # FINAL NOTE SEQ\n",
        "\n",
        "                # Writing final note synchronously\n",
        "\n",
        "                if ptc not in pitches:\n",
        "                    melody_chords.extend([delta_time, dur+128, ptc+256])\n",
        "                    pitches.append(ptc)\n",
        "\n",
        "                pe = e\n",
        "\n",
        "                #=======================================================\n",
        "\n",
        "            #=======================================================\n",
        "\n",
        "            # TOTAL DICTIONARY SIZE 512\n",
        "            #=======================================================\n",
        "\n",
        "            return [fn_tokens, melody_chords]\n",
        "\n",
        "        else:\n",
        "            return None\n",
        "\n",
        "    except Exception as e:\n",
        "        print('=' * 70)\n",
        "        print(midi_file)\n",
        "        print(e)\n",
        "        print('=' * 70)\n",
        "        return None"
      ],
      "metadata": {
        "cellView": "form",
        "id": "brC9ZC7_5Wab"
      },
      "execution_count": null,
      "outputs": []
    },
    {
      "cell_type": "markdown",
      "metadata": {
        "id": "FLxHvO-wlwfU"
      },
      "source": [
        "# (PROCESS)"
      ]
    },
    {
      "cell_type": "code",
      "source": [
        "#@title Process MIDIs with TMIDIX MIDI processor\n",
        "\n",
        "NUMBER_OF_PARALLEL_JOBS = 16 # Number of parallel jobs\n",
        "NUMBER_OF_FILES_PER_ITERATION = 16 # Number of files to queue for each parallel iteration\n",
        "SAVE_EVERY_NUMBER_OF_ITERATIONS = 160 # Save every 2560 files\n",
        "\n",
        "print('=' * 70)\n",
        "print('TMIDIX MIDI Processor')\n",
        "print('=' * 70)\n",
        "print('Starting up...')\n",
        "print('=' * 70)\n",
        "\n",
        "###########\n",
        "\n",
        "melody_chords_f = []\n",
        "\n",
        "files_count = 0\n",
        "\n",
        "print('Processing MIDI files. Please wait...')\n",
        "print('=' * 70)\n",
        "\n",
        "for i in tqdm(range(0, len(filez), NUMBER_OF_FILES_PER_ITERATION)):\n",
        "\n",
        "  with parallel_config(backend='threading', n_jobs=NUMBER_OF_PARALLEL_JOBS, verbose = 0):\n",
        "\n",
        "    output = Parallel(n_jobs=NUMBER_OF_PARALLEL_JOBS, verbose=0)(delayed(TMIDIX_MIDI_Processor)(f) for f in filez[i:i+NUMBER_OF_FILES_PER_ITERATION])\n",
        "\n",
        "    for o in output:\n",
        "\n",
        "        if o is not None:\n",
        "            melody_chords_f.append(o)\n",
        "\n",
        "    files_count += len(melody_chords_f)\n",
        "\n",
        "    # Saving every 2560 processed files\n",
        "    if i % (NUMBER_OF_FILES_PER_ITERATION * SAVE_EVERY_NUMBER_OF_ITERATIONS) == 0 and i != 0:\n",
        "        print('SAVING !!!')\n",
        "        print('=' * 70)\n",
        "        print('Saving processed files...')\n",
        "        print('=' * 70)\n",
        "        print('Processed so far:', files_count, 'out of', len(filez), '===', files_count / len(filez), 'good files ratio')\n",
        "        print('=' * 70)\n",
        "        count = str(files_count)\n",
        "        TMIDIX.Tegridy_Any_Pickle_File_Writer(melody_chords_f, '/content/MIDI_CLS_INTs_'+count)\n",
        "        melody_chords_f = []\n",
        "\n",
        "        print('=' * 70)\n",
        "\n",
        "print('SAVING !!!')\n",
        "print('=' * 70)\n",
        "print('Saving processed files...')\n",
        "print('=' * 70)\n",
        "print('Processed so far:', files_count, 'out of', len(filez), '===', files_count / len(filez), 'good files ratio')\n",
        "print('=' * 70)\n",
        "count = str(files_count)\n",
        "TMIDIX.Tegridy_Any_Pickle_File_Writer(melody_chords_f, '/content/MIDI_CLS_INTs_'+count)\n",
        "print('=' * 70)"
      ],
      "metadata": {
        "cellView": "form",
        "id": "lvaxDmV9504y"
      },
      "execution_count": null,
      "outputs": []
    },
    {
      "cell_type": "markdown",
      "metadata": {
        "id": "-ye9rNzOHX90"
      },
      "source": [
        "# (TEST INTS)"
      ]
    },
    {
      "cell_type": "code",
      "execution_count": null,
      "metadata": {
        "cellView": "form",
        "id": "zppMJ8gA3L4K"
      },
      "outputs": [],
      "source": [
        "#@title Test INTs\n",
        "\n",
        "train_data1 = random.choice(melody_chords_f)\n",
        "\n",
        "print('=' * 70)\n",
        "print('Song-Artist:', file_name_tokens_to_file_name(train_data1[0]))\n",
        "print('=' * 70)\n",
        "print('Sample INTs', train_data1[1][:15])\n",
        "print('=' * 70)\n",
        "\n",
        "out = train_data1[1]\n",
        "\n",
        "if len(out) != 0:\n",
        "\n",
        "    song = out\n",
        "    song_f = []\n",
        "\n",
        "    time = 0\n",
        "    dur = 0\n",
        "    vel = 90\n",
        "    pitch = 0\n",
        "    channel = 0\n",
        "\n",
        "    for ss in song:\n",
        "\n",
        "        if 0 <= ss < 128:\n",
        "\n",
        "            time += ss\n",
        "\n",
        "        if 128 < ss < 256:\n",
        "\n",
        "            dur = (ss-128)\n",
        "\n",
        "        if 256 < ss < 512:\n",
        "\n",
        "            chan = (ss-256) // 128\n",
        "\n",
        "            if chan == 1:\n",
        "                channel = 9\n",
        "            else:\n",
        "                channel = 0\n",
        "\n",
        "            pitch = (ss-256) % 128\n",
        "\n",
        "            song_f.append(['note', time, dur, channel, pitch, vel ])\n",
        "\n",
        "detailed_stats = TMIDIX.Tegridy_ms_SONG_to_MIDI_Converter(song_f,\n",
        "                                                        output_signature = 'Ultimate MIDI Classifier',\n",
        "                                                        output_file_name = '/content/Ultimate-MIDI-Classifier-Composition',\n",
        "                                                        track_name='Project Los Angeles',\n",
        "                                                        timings_multiplier=32\n",
        "                                                        )\n",
        "\n",
        "print('=' * 70)"
      ]
    },
    {
      "cell_type": "markdown",
      "metadata": {
        "id": "YzCMd94Tu_gz"
      },
      "source": [
        "# Congrats! You did it! :)"
      ]
    }
  ],
  "metadata": {
    "colab": {
      "private_outputs": true,
      "provenance": []
    },
    "kernelspec": {
      "display_name": "Python 3",
      "name": "python3"
    },
    "language_info": {
      "codemirror_mode": {
        "name": "ipython",
        "version": 3
      },
      "file_extension": ".py",
      "mimetype": "text/x-python",
      "name": "python",
      "nbconvert_exporter": "python",
      "pygments_lexer": "ipython3",
      "version": "3.9.7"
    }
  },
  "nbformat": 4,
  "nbformat_minor": 0
}